{
 "cells": [
  {
   "cell_type": "code",
   "execution_count": 31,
   "id": "surrounded-secondary",
   "metadata": {},
   "outputs": [],
   "source": [
    "import lxml.etree as ET\n",
    "import sys\n",
    "import os\n",
    "from io import TextIOWrapper\n",
    "from random import shuffle as randomsh\n",
    "import matplotlib.pyplot as plt\n",
    "import subprocess\n",
    "import time\n",
    "import random"
   ]
  },
  {
   "cell_type": "code",
   "execution_count": 38,
   "id": "existing-nevada",
   "metadata": {},
   "outputs": [],
   "source": [
    "# Change data in xml file\n",
    "def ChangeNumberOfstates(filePath: str, numberofstates_, radius_):\n",
    "    tree = ET.parse(filePath)\n",
    "    root = tree.getroot()\n",
    "    algorithm = root.find('algorithm')\n",
    "    numberofstates = algorithm.find('numberofstates')\n",
    "    numberofstates.text = numberofstates_\n",
    "    radius = algorithm.find('radius')\n",
    "    radius.text = radius_\n",
    "    tree.write(filePath, pretty_print=True)\n",
    "    \n",
    "\n",
    "def ChangeSearchType(filePath: str, searchtype_):\n",
    "    tree = ET.parse(filePath)\n",
    "    root = tree.getroot()\n",
    "    algorithm = root.find('algorithm')\n",
    "    searchtype = algorithm.find('searchtype')\n",
    "    searchtype.text = searchtype_\n",
    "    tree.write(filePath, pretty_print=True)\n",
    "    \n",
    "def ChangeToRand(filePath: str):\n",
    "    tree = ET.parse(filePath)\n",
    "    root = tree.getroot()\n",
    "    map_data = root.find('map')\n",
    "    minDist = max(int(map_data.find('width').text), int(map_data.find('height').text))\n",
    "    minDist //= 2\n",
    "    grid = map_data.find('grid')\n",
    "    startX = map_data.find('startx')\n",
    "    startY = map_data.find('starty')\n",
    "    finishX = map_data.find('finishx')\n",
    "    finishY = map_data.find('finishy')\n",
    "    freeCeils = []\n",
    "    for i, row in enumerate(grid):\n",
    "        for j, e in enumerate(row.text.split(' ')):\n",
    "            if e == '0':\n",
    "                freeCeils.append((j, i))\n",
    "    \n",
    "    random.shuffle(freeCeils)\n",
    "    startX_, startY_ = freeCeils[0][0], freeCeils[0][1]\n",
    "    random.shuffle(freeCeils)\n",
    "    finishX_, finishY_ = freeCeils[0][0], freeCeils[0][1]\n",
    "    while (startX_ - finishX_) ** 2 + (startY_ - finishY_) ** 2 < minDist ** 2:\n",
    "        random.shuffle(freeCeils)\n",
    "        startX_, startY_ = freeCeils[0][0], freeCeils[0][1]\n",
    "        random.shuffle(freeCeils)\n",
    "        finishX_, finishY_ = freeCeils[0][0], freeCeils[0][1]\n",
    "    startX.text, startY.text = str(startX_), str(startY_)\n",
    "    finishX.text, finishY.text = str(finishX_), str(finishY_)\n",
    "    tree.write(filePath, pretty_print=True)\n",
    "    \n"
   ]
  },
  {
   "cell_type": "code",
   "execution_count": 211,
   "id": "threaded-mission",
   "metadata": {},
   "outputs": [],
   "source": [
    "#run executable\n",
    "def process_rstar(path_to_executable, path_map):\n",
    "    #print(\"rstar started\")\n",
    "\n",
    "    ChangeSearchType(path_map, \"rstar\")\n",
    "    proc = subprocess.Popen([path_to_executable + \" \" + path_map], shell=True)\n",
    "    time.sleep(0.5)\n",
    "    poll = proc.poll()\n",
    "    if poll is None:\n",
    "        #alive\n",
    "        proc.kill()\n",
    "        return -1\n",
    "    else:\n",
    "        return 0\n",
    "    \n",
    "    #proc.wait()\n",
    "    #print(\"rstar finished\")\n",
    "    \n",
    "def process_astar(path_to_executable_astar, path_map):\n",
    "    #print(\"astar started\")\n",
    "    ChangeSearchType(path_map, \"astar\")\n",
    "    proc1 = subprocess.Popen([path_to_executable_astar + \" \" + path_map], shell=True)\n",
    "    time.sleep(0.5)\n",
    "    poll = proc1.poll()\n",
    "    if poll is None:\n",
    "        #alive\n",
    "        proc1.kill()\n",
    "        return -1\n",
    "    else:\n",
    "        return 0\n",
    "    \n",
    "    #proc1.wait()\n",
    "    #print(\"astar finished\")"
   ]
  },
  {
   "cell_type": "code",
   "execution_count": 212,
   "id": "delayed-secretary",
   "metadata": {},
   "outputs": [],
   "source": [
    "#parse data from xml_log\n",
    "def get_data(filePath: str, algo): # 0 - number of steps, 1 - nudes created, 2 - length, 3 - time\n",
    "    tree = ET.parse(filePath)\n",
    "    root = tree.getroot()\n",
    "    log = root.find('log')\n",
    "    summary = log.find('summary')\n",
    "    number_of_steps = float(summary.get('numberofsteps'))\n",
    "    nodescreated = float(summary.get('nodescreated'))\n",
    "    length = float(summary.get('length'))\n",
    "    time = float(summary.get('time'))\n",
    "    return number_of_steps, nodescreated,  length, time \n",
    "    "
   ]
  },
  {
   "cell_type": "code",
   "execution_count": 213,
   "id": "adopted-wichita",
   "metadata": {},
   "outputs": [],
   "source": [
    "#getting path to log\n",
    "def get_path_to_log(path_to_xml: str) :\n",
    "    return path_to_xml[:-4] + \"_log.xml\"  "
   ]
  },
  {
   "cell_type": "code",
   "execution_count": 225,
   "id": "perceived-specific",
   "metadata": {},
   "outputs": [
    {
     "ename": "SyntaxError",
     "evalue": "invalid syntax (<ipython-input-225-d405afed2d7c>, line 23)",
     "output_type": "error",
     "traceback": [
      "\u001b[0;36m  File \u001b[0;32m\"<ipython-input-225-d405afed2d7c>\"\u001b[0;36m, line \u001b[0;32m23\u001b[0m\n\u001b[0;31m    if (is_rstar != -1 && isastar != -1):\u001b[0m\n\u001b[0m                        ^\u001b[0m\n\u001b[0;31mSyntaxError\u001b[0m\u001b[0;31m:\u001b[0m invalid syntax\n"
     ]
    }
   ],
   "source": [
    "#start testing process\n",
    "def do_test(path_to_executable_rstar, path_to_executable_astar, path_to_xml, number_of_runs) :\n",
    "    #pathFileRstar = os.path.normpath(path_to_xml)\n",
    "    AllDataRstar = []\n",
    "    AllDataAstar = []\n",
    "    for i in range(number_of_runs):\n",
    "        if i == 10:\n",
    "            print(\"10 tests passed\")\n",
    "        if i == 50:\n",
    "            print(\"50 tests passed\")\n",
    "        if i == 75:\n",
    "            print(\"75 tests passed\")\n",
    "        ChangeToRand(path_to_xml)\n",
    "        is_rstar = process_rstar(path_to_executable_rstar, path_to_xml)\n",
    "        if (is_rstar != -1):\n",
    "            datarstar = get_data(get_path_to_log(path_to_xml), \"rstar\")\n",
    "            AllDataRstar.append(datarstar)\n",
    "            #print(datarstar)\n",
    "        is_astar = process_astar(path_to_executable_astar, path_to_xml)\n",
    "        if (is_astar != -1):\n",
    "            dataastar = get_data(get_path_to_log(path_to_xml), \"astar\")\n",
    "            AllDataAstar.append(dataastar)\n",
    "        if (is_rstar != -1 && isastar != -1):\n",
    "            AllDataRstar.append(datarstar)\n",
    "            AllDataAstar.append(dataastar)\n",
    "        #print(dataastar)\n",
    "    return AllDataRstar, AllDataAstar\n",
    "    "
   ]
  },
  {
   "cell_type": "code",
   "execution_count": 241,
   "id": "polished-meeting",
   "metadata": {},
   "outputs": [],
   "source": [
    "def draw_cur(AllData, cur_data) :\n",
    "    dict = {}\n",
    "    dict['nodescreated'] = 1\n",
    "    dict['number of steps'] = 0\n",
    "    dict['length'] = 2\n",
    "    dict['time'] = 3\n",
    "    dataRstar = AllData[0]\n",
    "    dataAstar = AllData[1]\n",
    "    num_of_steps_rstar = [100 * dataRstar[item][dict[cur_data]] / dataAstar[item][dict[cur_data]] for item in range(len(dataRstar))]\n",
    "    num_of_steps_astar = [item[dict[cur_data]] for item in dataAstar]\n",
    "    width = 1\n",
    "    fig, ax = plt.subplots()\n",
    "    rects1 = ax.bar([(float(i) - width) for i in range(1, len(num_of_steps_rstar) + 1)], num_of_steps_rstar, width=width / 2, facecolor='#9999ff', label='R star')\n",
    "    #rects2 = ax.bar([(float(i) - width / 2) for i in range(1, len(num_of_steps_astar) + 1)], num_of_steps_astar, width=width / 2, facecolor='#ff9999', label='A star')\n",
    "    plt.axline((0, 100), (1, 100))\n",
    "    ax.set_ylabel(cur_data)\n",
    "    ax.set_title(cur_data)\n",
    "    ax.set_xticklabels([])\n",
    "    ax.legend()\n",
    "    fig.tight_layout()\n",
    "    plt.show()\n",
    "    \n",
    "    "
   ]
  },
  {
   "cell_type": "code",
   "execution_count": 242,
   "id": "electrical-snowboard",
   "metadata": {},
   "outputs": [],
   "source": [
    "#drawing all data\n",
    "def draw_data(AllData) : # 0 - number of steps, 1 - nudes created, 2 - length, 3 - time\n",
    "    draw_cur(AllData, 'nodescreated')\n",
    "    draw_cur(AllData, 'time')\n",
    "    '''\n",
    "    dataRstar = AllData[0]\n",
    "    dataAstar = AllData[1]\n",
    "    num_of_steps_rstar = [item[0] for item in dataRstar]\n",
    "    num_of_steps_astar = [item[0] for item in dataAstar]\n",
    "    width = 1\n",
    "    fig, ax = plt.subplots()\n",
    "    rects1 = ax.bar([(float(i) - width) for i in range(1, len(num_of_steps_rstar) + 1)], num_of_steps_rstar, width=width / 2, facecolor='#9999ff', label='R star')\n",
    "    rects2 = ax.bar([(float(i) - width / 2) for i in range(1, len(num_of_steps_astar) + 1)], num_of_steps_astar, width=width / 2, facecolor='#ff9999', label='A star')\n",
    "    ax.set_ylabel('Number of steps')\n",
    "    ax.set_title('Number of steps')\n",
    "    ax.set_xticklabels([])\n",
    "    ax.legend()\n",
    "    fig.tight_layout()\n",
    "    plt.show()'''\n",
    "    "
   ]
  },
  {
   "cell_type": "code",
   "execution_count": 243,
   "id": "persistent-stylus",
   "metadata": {},
   "outputs": [
    {
     "data": {
      "image/png": "[encoded data removed]",
      "text/plain": [
       "<Figure size 432x288 with 1 Axes>"
      ]
     },
     "metadata": {
      "needs_background": "light"
     },
     "output_type": "display_data"
    },
    {
     "data": {
      "image/png": "[encoded data removed]",
      "text/plain": [
       "<Figure size 432x288 with 1 Axes>"
      ]
     },
     "metadata": {
      "needs_background": "light"
     },
     "output_type": "display_data"
    }
   ],
   "source": [
    "path_to_executable_r_star = \"/Users/adilkhankussidenov/Documents/PathPlanning/git_rstar/Rstar_path_planning/Bin/Debug/RstarSearch\"\n",
    "path_to_executable_a_star = \"/Users/adilkhankussidenov/Documents/PathPlanning/PathPlanningProject2d/Bin/Debug/Adilkhan_Kussidenov_ASearch\"\n",
    "path_to_xml = \"/Users/adilkhankussidenov/Documents/PathPlanning/git_rstar/Rstar_path_planning/Examples/Berlin_512.xml\"\n",
    "AllData = do_test(path_to_executable_r_star, path_to_executable_a_star, path_to_xml, 10)\n",
    "draw_data(AllData)"
   ]
  },
  {
   "cell_type": "code",
   "execution_count": 240,
   "id": "thermal-forty",
   "metadata": {},
   "outputs": [
    {
     "name": "stdout",
     "output_type": "stream",
     "text": [
      "Map brc101d.xml\n"
     ]
    },
    {
     "data": {
      "image/png": "[encoded data removed]",
      "text/plain": [
       "<Figure size 432x288 with 1 Axes>"
      ]
     },
     "metadata": {
      "needs_background": "light"
     },
     "output_type": "display_data"
    },
    {
     "data": {
      "image/png": "[encoded data removed]",
      "text/plain": [
       "<Figure size 432x288 with 1 Axes>"
      ]
     },
     "metadata": {
      "needs_background": "light"
     },
     "output_type": "display_data"
    }
   ],
   "source": [
    "print(\"Map brc101d.xml\")\n",
    "path_to_executable_r_star = \"/Users/adilkhankussidenov/Documents/PathPlanning/git_rstar/Rstar_path_planning/Bin/Debug/RstarSearch\"\n",
    "path_to_executable_a_star = \"/Users/adilkhankussidenov/Documents/PathPlanning/PathPlanningProject2d/Bin/Debug/Adilkhan_Kussidenov_ASearch\"\n",
    "path_to_xml = \"/Users/adilkhankussidenov/Documents/PathPlanning/git_rstar/Rstar_path_planning/Examples/brc101d.xml\"\n",
    "AllData = do_test(path_to_executable_r_star, path_to_executable_a_star, path_to_xml, 10)\n",
    "draw_data(AllData)\n"
   ]
  },
  {
   "cell_type": "code",
   "execution_count": 255,
   "id": "steady-rolling",
   "metadata": {},
   "outputs": [
    {
     "name": "stdout",
     "output_type": "stream",
     "text": [
      "[1. 2. 3. 4.]\n"
     ]
    },
    {
     "data": {
      "image/png": "[encoded data removed]",
      "text/plain": [
       "<Figure size 432x288 with 1 Axes>"
      ]
     },
     "metadata": {
      "needs_background": "light"
     },
     "output_type": "display_data"
    }
   ],
   "source": [
    "x = np.linspace(1, 40, 100);\n",
    "y = np.linspace(1, 4, 100);\n",
    "\n",
    "# Actually plot the exponential values\n",
    "plt.plot(x, np.log(y))\n",
    "ax = plt.gca()\n",
    "\n",
    "# Set x logaritmic\n",
    "ax.set_xscale('log')\n",
    "\n",
    "# Rewrite the y labels\n",
    "y_labels = np.linspace(min(y), max(y), 4)\n",
    "print(y_labels)\n",
    "ax.set_yticks(np.log(y_labels))\n",
    "ax.set_yticklabels(y_labels)\n",
    "\n",
    "plt.show()"
   ]
  },
  {
   "cell_type": "code",
   "execution_count": null,
   "id": "stunning-panel",
   "metadata": {},
   "outputs": [],
   "source": []
  }
 ],
 "metadata": {
  "kernelspec": {
   "display_name": "Python 3",
   "language": "python",
   "name": "python3"
  },
  "language_info": {
   "codemirror_mode": {
    "name": "ipython",
    "version": 3
   },
   "file_extension": ".py",
   "mimetype": "text/x-python",
   "name": "python",
   "nbconvert_exporter": "python",
   "pygments_lexer": "ipython3",
   "version": "3.9.2"
  }
 },
 "nbformat": 4,
 "nbformat_minor": 5
}
